{
 "cells": [
  {
   "cell_type": "code",
   "execution_count": 40,
   "metadata": {},
   "outputs": [],
   "source": [
    "import requests\n",
    "from bs4 import BeautifulSoup\n",
    "from datetime import datetime\n",
    "import pickle\n",
    "import pandas as pd\n",
    "from selenium import webdriver\n",
    "from selenium.webdriver.common.action_chains import ActionChains\n",
    "import time\n",
    "from newsapi import NewsApiClient"
   ]
  },
  {
   "cell_type": "code",
   "execution_count": 41,
   "metadata": {},
   "outputs": [],
   "source": [
    "newsapi = NewsApiClient(api_key='43fa0761c7ba4b0cb2cca375d4d1ed5c')"
   ]
  },
  {
   "cell_type": "code",
   "execution_count": null,
   "metadata": {},
   "outputs": [],
   "source": [
    "all_articles = newsapi.get_everything(q='bitcoin',\n",
    "                                      sources='bbc-news,the-verge',\n",
    "                                      domains='bbc.co.uk,techcrunch.com',\n",
    "                                      from_param='2017-12-01',\n",
    "                                      to='2017-12-12',\n",
    "                                      language='en',\n",
    "                                      sort_by='relevancy',\n",
    "                                      page=2)"
   ]
  },
  {
   "cell_type": "code",
   "execution_count": 2,
   "metadata": {},
   "outputs": [],
   "source": [
    "# SITES\n",
    "\n",
    "todos_portais = ['BBC','Gazeta do Povo','Globo',\n",
    "                 'iG','R7','UOL','Veja','Carta Capital','Revista Forúm',\n",
    "                 'Brasil de Fato','Pleno News','Terça Livre','Renova Mídia',\n",
    "                'Conexão Política','Jornal da Cidade','El Pais', 'Deutsche Welle','Estadão','Isto É']\n",
    "\n",
    "\n",
    "# BBC  -- \n",
    "bbc = ''\n",
    "\n",
    "# Gazeta do Povo  --     \n",
    "gazeta = ''\n",
    "\n",
    "# Globo  -- \n",
    "globo = ''\n",
    "\n",
    "# iG  -- \n",
    "ig = ''\n",
    "\n",
    "# R7 -- \n",
    "r7 = ''\n",
    "\n",
    "# UOL  -- \n",
    "uol = 'https://noticias.uol.com.br/ultimas/'\n",
    "\n",
    "# Veja  -- \n",
    "veja = ''\n",
    "\n",
    "# Carta Capital  -- \n",
    "carta_capital = ''\n",
    "\n",
    "# Revista Forúm  -- \n",
    "forum = ''\n",
    "\n",
    "# Brasil de Fato  -- \n",
    "brasil_fato = ''\n",
    "\n",
    "# Pleno News  -- \n",
    "pleno = ''\n",
    "\n",
    "# Terça Livre  -- \n",
    "terca_livre = ''\n",
    "\n",
    "# Renova Mídia  -- \n",
    "renova = ''\n",
    "\n",
    "# Conexão Política  -- \n",
    "conexao = ''\n",
    "\n",
    "# Jornal da Cidade  -- \n",
    "jornal_cidade = ''\n",
    "\n",
    "# El Pais  -- \n",
    "elpais = ''\n",
    "\n",
    "# Deutsche Welle  -- \n",
    "dw = ''\n",
    "\n",
    "# Estadão  -- \n",
    "estadao = ''\n",
    "\n",
    "# Isto É  -- \n",
    "istoe = ''\n",
    "\n"
   ]
  },
  {
   "cell_type": "code",
   "execution_count": 7,
   "metadata": {},
   "outputs": [],
   "source": [
    "path_chromedriver = r'C:\\Users\\hlweb\\Jupyter\\Auxiliares Python\\ChromeDriver\\chromedriver.exe'\n"
   ]
  },
  {
   "cell_type": "code",
   "execution_count": null,
   "metadata": {},
   "outputs": [],
   "source": [
    "##informaçoes = [portal, categoria, manchete, link]"
   ]
  },
  {
   "cell_type": "code",
   "execution_count": 37,
   "metadata": {},
   "outputs": [],
   "source": [
    "def coletando_infos_uol():\n",
    "    infos = []\n",
    "    frases_comuns = []\n",
    "    \n",
    "    driver = webdriver.Chrome(executable_path=path_chromedriver)\n",
    "    driver.get(uol)\n",
    "    \n",
    "    \n",
    "    cookie_xpath = '/html/body/div[7]/div/div[2]/button'\n",
    "    cancelar_xpath = '/html/body/header/div[1]/div/button[1]'\n",
    "    footer_xpath = '/html/body/div[7]/div/div/footer/p/span[2]'\n",
    "    button_xpath = 'btn-search align-center ver-mais btn-more btn btn-large btn-primary'\n",
    "    '/html/body/div[7]/section/section/div/div/div[1]/section/button/svg'\n",
    "    \n",
    "    driver.find_element_by_xpath(cookie_xpath).click()\n",
    "    time.sleep(0.5)\n",
    "    #driver.find_element_by_xpath(cancelar_xpath).click()\n",
    "    \n",
    "    for x in range(1,10):\n",
    "        driver.execute_script(\"window.scrollTo(0, document.body.scrollHeight);\")\n",
    "        time.sleep(0.3)\n",
    "        elem = driver.find_elements_by_xpath(button_xpath)\n",
    "        print(len(elem))\n",
    "\n",
    "    \n",
    "    html = driver.execute_script(\"return document.documentElement.outerHTML\")\n",
    "    soup = BeautifulSoup(html, 'html.parser')\n",
    "    \n",
    "    for a in soup.find_all('div', {'class':'thumbnails-item align-horizontal list col-xs-8 col-sm-12 small col-sm-24 small'}):\n",
    "        print(a.a['href'])\n",
    "        print(a.span.text)\n",
    "        print(a.h3.text)\n",
    "        \n",
    "        #if manchete!='' and manchete not in infos and manchete not in frases_comuns:\n",
    "            #infos.append(manchete)\n",
    "    \n",
    "\n",
    "            \n",
    "        \n",
    "    #infos_completas=[[hora_dia,'UOL', x] for x in infos]    \n",
    "    #return infos_completas"
   ]
  },
  {
   "cell_type": "code",
   "execution_count": 38,
   "metadata": {},
   "outputs": [
    {
     "name": "stdout",
     "output_type": "stream",
     "text": [
      "0\n",
      "0\n",
      "0\n",
      "0\n",
      "0\n",
      "0\n",
      "0\n",
      "0\n",
      "0\n",
      "https://economia.uol.com.br/noticias/estadao-conteudo/2021/10/05/pacheco-sobre-offshore-de-guedes-a-pauta-do-pais-e-muito-mais-importante.htm\n",
      "Economia\n",
      "Pacheco sobre offshore de Guedes: 'a pauta do país é muito mais importante'\n",
      "https://noticias.uol.com.br/politica/ultimas-noticias/2021/10/05/senado-aprova-projeto-de-memorial-em-homenagem-as-vitimas-da-covid-19.htm\n",
      "Política\n",
      "Senado aprova projeto de memorial em homenagem às vítimas da covid-19\n",
      "https://dialogosdosul.operamundi.uol.com.br/mundo/71586/pandora-papers-so-na-america-latina-us-40-bilhoes-foram-desviados-para-paraisos-fiscais\n",
      "Parceiros\n",
      "Pandora Papers: Só na América Latina, US$ 40 bilhões foram desviados para paraísos fiscais\n"
     ]
    }
   ],
   "source": [
    "coletando_infos_uol()"
   ]
  },
  {
   "cell_type": "code",
   "execution_count": null,
   "metadata": {},
   "outputs": [],
   "source": []
  }
 ],
 "metadata": {
  "kernelspec": {
   "display_name": "Python 3",
   "language": "python",
   "name": "python3"
  },
  "language_info": {
   "codemirror_mode": {
    "name": "ipython",
    "version": 3
   },
   "file_extension": ".py",
   "mimetype": "text/x-python",
   "name": "python",
   "nbconvert_exporter": "python",
   "pygments_lexer": "ipython3",
   "version": "3.7.7"
  }
 },
 "nbformat": 4,
 "nbformat_minor": 4
}
